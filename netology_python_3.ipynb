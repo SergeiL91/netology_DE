{
 "cells": [
  {
   "cell_type": "markdown",
   "metadata": {},
   "source": [
    "## Задание 1\n",
    "Дана переменная, в которой хранится словарь, содержащий гео-метки для каждого пользователя (пример структуры данных приведен ниже). Вам необходимо написать программу, которая выведет на экран множество уникальных гео-меток всех пользователей.\n",
    "\n",
    "Пример работы программы:\n",
    "\n",
    "ids = {‘user1’: [213, 213, 213, 15, 213],\n",
    "\n",
    "‘user2’: [54, 54, 119, 119, 119],\n",
    "\n",
    "‘user3’: [213, 98, 98, 35]}\n",
    "\n",
    "Результат: {98, 35, 15, 213, 54, 119}"
   ]
  },
  {
   "cell_type": "code",
   "execution_count": 42,
   "metadata": {},
   "outputs": [],
   "source": [
    "ids = {'user1': [213, 213, 213, 15, 213],\n",
    "'user2': [54, 54, 119, 119, 119],\n",
    "'user3': [213, 98, 98, 35]}"
   ]
  },
  {
   "cell_type": "code",
   "execution_count": 43,
   "metadata": {},
   "outputs": [
    {
     "name": "stdout",
     "output_type": "stream",
     "text": [
      "Результат: {98, 35, 15, 213, 54, 119}\n"
     ]
    }
   ],
   "source": [
    "b = []\n",
    "for i in ids.values():\n",
    "    b +=  i\n",
    "print(\"Результат:\", set(b))"
   ]
  },
  {
   "cell_type": "markdown",
   "metadata": {},
   "source": [
    "## Задание 2\n",
    "\n",
    "Дана переменная, в которой хранится список поисковых запросов пользователя (пример структуры данных приведен ниже). Вам необходимо написать программу, которая выведет на экран распределение количества слов в запросах в требуемом виде.\n",
    "\n",
    "Пример работы программы:\n",
    "\n",
    "queries = [\n",
    "‘смотреть сериалы онлайн’,\n",
    "\n",
    "‘новости спорта’,\n",
    "\n",
    "‘афиша кино’,\n",
    "\n",
    "‘курс доллара’,\n",
    "\n",
    "‘сериалы этим летом’,\n",
    "\n",
    "‘курс по питону’,\n",
    "\n",
    "‘сериалы про спорт’,\n",
    "\n",
    "]\n",
    "\n",
    "Результат:\n",
    "\n",
    "Поисковых запросов, содержащих 2 слов(а): 42.86%\n",
    "\n",
    "Поисковых запросов, содержащих 3 слов(а): 57.14%"
   ]
  },
  {
   "cell_type": "code",
   "execution_count": 44,
   "metadata": {},
   "outputs": [],
   "source": [
    "queries = [ 'смотреть сериалы онлайн',\n",
    "'новости спорта',\n",
    "'афиша кино',\n",
    "'курс доллара',\n",
    "'сериалы этим летом',\n",
    "'курс по питону',\n",
    "'сериалы про спорт'\n",
    "]"
   ]
  },
  {
   "cell_type": "code",
   "execution_count": 45,
   "metadata": {},
   "outputs": [],
   "source": [
    "from collections import Counter"
   ]
  },
  {
   "cell_type": "code",
   "execution_count": 47,
   "metadata": {},
   "outputs": [
    {
     "name": "stdout",
     "output_type": "stream",
     "text": [
      "Результат:\n",
      "Поисковых запросов, содержащих 3 слов(а): 57.14 %\n",
      "Поисковых запросов, содержащих 2 слов(а): 42.86 %\n"
     ]
    }
   ],
   "source": [
    "dict_queries = []\n",
    "for query in queries:\n",
    "    dict_queries.append(len(query.split()))\n",
    "dict_queries = dict(Counter(dict_queries))\n",
    "print('Результат:')\n",
    "for words, count_words in dict_queries.items():\n",
    "    print('Поисковых запросов, содержащих',words,'слов(а):', round((count_words/sum(dict_queries.values())*100),2),'%')"
   ]
  },
  {
   "cell_type": "markdown",
   "metadata": {},
   "source": [
    "## Задание 3\n",
    "Дана переменная, в которой хранится информация о затратах и доходе рекламных кампаний по различным источникам. Необходимо дополнить исходную структуру показателем ROI, который рассчитаем по формуле: (revenue / cost - 1) * 100\n",
    "\n",
    "Пример работы программы:\n",
    "\n",
    "results = {\n",
    "‘vk’: {‘revenue’: 103, ‘cost’: 98},\n",
    "\n",
    "‘yandex’: {‘revenue’: 179, ‘cost’: 153},\n",
    "\n",
    "‘facebook’: {‘revenue’: 103, ‘cost’: 110},\n",
    "\n",
    "‘adwords’: {‘revenue’: 35, ‘cost’: 34},\n",
    "\n",
    "‘twitter’: {‘revenue’: 11, ‘cost’: 24},\n",
    "}\n",
    "\n",
    "Результат:\n",
    "\n",
    "\n",
    "{‘adwords’: {‘ROI’: 2.94, ‘cost’: 34, ‘revenue’: 35},\n",
    "\n",
    "‘facebook’: {‘ROI’: -6.36, ‘cost’: 110, ‘revenue’: 103},\n",
    "\n",
    "‘twitter’: {‘ROI’: -54.17, ‘cost’: 24, ‘revenue’: 11},\n",
    "\n",
    "‘vk’: {‘ROI’: 5.1, ‘cost’: 98, ‘revenue’: 103},\n",
    "\n",
    "‘yandex’: {‘ROI’: 16.99, ‘cost’: 153, ‘revenue’: 179}}"
   ]
  },
  {
   "cell_type": "code",
   "execution_count": null,
   "metadata": {},
   "outputs": [],
   "source": [
    "results = {\n",
    "'vk': {'revenue': 103, 'cost': 98},\n",
    "'yandex': {'revenue': 179, 'cost': 153},\n",
    "'facebook': {'revenue': 103, 'cost': 110},\n",
    "'adwords': {'revenue': 35, 'cost': 34},\n",
    "'twitter': {'revenue': 11, 'cost': 24},\n",
    "}"
   ]
  },
  {
   "cell_type": "code",
   "execution_count": 224,
   "metadata": {},
   "outputs": [
    {
     "data": {
      "text/plain": [
       "[('adwords', {'revenue': 35, 'cost': 34, 'ROI': 2.94}),\n",
       " ('facebook', {'revenue': 103, 'cost': 110, 'ROI': -6.36}),\n",
       " ('twitter', {'revenue': 11, 'cost': 24, 'ROI': -54.17}),\n",
       " ('vk', {'revenue': 103, 'cost': 98, 'ROI': 5.1}),\n",
       " ('yandex', {'revenue': 179, 'cost': 153, 'ROI': 16.99})]"
      ]
     },
     "execution_count": 224,
     "metadata": {},
     "output_type": "execute_result"
    }
   ],
   "source": [
    "for source, qual in results.items():\n",
    "    qual['ROI'] = round((qual['revenue'] /qual['cost'] - 1 )*100,2)\n",
    "sorted(results.items())"
   ]
  },
  {
   "cell_type": "markdown",
   "metadata": {},
   "source": [
    "## Задание 4\n",
    "Дана переменная, в которой хранится статистика рекламных каналов по объемам продаж (пример структуры данных приведен ниже). Напишите программу, которая возвращает название канала с максимальным объемом продаж.\n",
    "\n",
    "Пример работы программы:\n",
    "\n",
    "stats = {‘facebook’: 55, ‘yandex’: 115, ‘vk’: 120, ‘google’: 99, ‘email’: 42, ‘ok’: 98}\n",
    "\n",
    "Результат: Максимальный объем продаж на рекламном канале: vk"
   ]
  },
  {
   "cell_type": "code",
   "execution_count": 149,
   "metadata": {},
   "outputs": [],
   "source": [
    "stats = {'facebook': 55, 'yandex': 115, 'vk': 120, 'google': 99, 'email': 42, 'ok': 98}"
   ]
  },
  {
   "cell_type": "code",
   "execution_count": 229,
   "metadata": {},
   "outputs": [
    {
     "name": "stdout",
     "output_type": "stream",
     "text": [
      "Результат: Максимальный объем продаж на рекламном канале: vk\n"
     ]
    }
   ],
   "source": [
    "qual_start = 0\n",
    "for name, qual in stats.items():\n",
    "    if qual > qual_start:\n",
    "        qual_start = qual\n",
    "        channel = name\n",
    "print('Результат: Максимальный объем продаж на рекламном канале:',channel)       "
   ]
  }
 ],
 "metadata": {
  "kernelspec": {
   "display_name": "Python 3",
   "language": "python",
   "name": "python3"
  },
  "language_info": {
   "codemirror_mode": {
    "name": "ipython",
    "version": 3
   },
   "file_extension": ".py",
   "mimetype": "text/x-python",
   "name": "python",
   "nbconvert_exporter": "python",
   "pygments_lexer": "ipython3",
   "version": "3.8.3"
  }
 },
 "nbformat": 4,
 "nbformat_minor": 4
}

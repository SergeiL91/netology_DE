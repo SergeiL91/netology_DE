{
 "cells": [
  {
   "cell_type": "code",
   "execution_count": 11,
   "metadata": {},
   "outputs": [],
   "source": [
    "documents = [\n",
    "{'type': 'passport', 'number': '2207 876234', 'name': 'Василий Гупкин'},\n",
    "{'type': 'invoice', 'number': '11-2', 'name': 'Геннадий Покемонов'},\n",
    "{'type': 'insurance', 'number': '10006', 'name': 'Аристарх Павлов'}\n",
    "]\n",
    "directories = {\n",
    " '1': ['2207 876234', '11-2'],\n",
    " '2': ['10006'],\n",
    " '3': []\n",
    "}"
   ]
  },
  {
   "cell_type": "code",
   "execution_count": 12,
   "metadata": {},
   "outputs": [],
   "source": [
    "\n",
    "def test(documents,directories):\n",
    "    command = 'start'\n",
    "    print_message = 'Документ не найден в базе'\n",
    "    print_message2 = 'Номер документа не найден'\n",
    "    print_message3 = 'start'\n",
    "    while command != 'q':\n",
    "        command = input('Введите команду:')\n",
    "        if command == 'p':\n",
    "            doc_number = input('Введите номер документа ')\n",
    "            for document in documents:\n",
    "                if document['number'] in doc_number:\n",
    "                    print_message ='Владелец документа:' +str(document['name'])\n",
    "            print(print_message)\n",
    "            print_message = 'Документ не найден в базе'\n",
    "        elif command == 's':\n",
    "            number = input('Введите номер документа:')\n",
    "            for keys,values in directories.items():\n",
    "                if number in values:\n",
    "                    print_message2 = 'Документ хранится на полке:' + keys\n",
    "            print(print_message2)\n",
    "        elif command == 'l':\n",
    "            for keys,values in directories.items():\n",
    "                for document in documents:\n",
    "                    if document['number'] in values:\n",
    "                        print('№:',document['number'],',','тип:',document['type'],',',\n",
    "                              'владелец:',document['name'],',','полка хранения:',keys)\n",
    "        elif command == 'as':\n",
    "            number_shelf = input('Введите номер полки:')\n",
    "            for keys,values in directories.items():\n",
    "                if number_shelf not in keys:\n",
    "                    directories_copy = directories.copy()\n",
    "                    directories_copy[number_shelf] = []\n",
    "                    directories = directories_copy\n",
    "                    print_message3 ='Полка добавлена. Текущий перечень полок:' + str(\",\".join(str(x) for x in list(map(int,directories.keys()))))\n",
    "                elif number_shelf in keys:\n",
    "                    print_message3 ='Такая полка уже существует. Текущий перечень полок:'+ str(\",\".join(str(x) for x in list(map(int,directories.keys()))))\n",
    "            print(print_message3)\n",
    "        elif command == 'ds':\n",
    "            number_shelf2 = (input('Введите номер полки:'))\n",
    "            if number_shelf2 not in directories.keys():\n",
    "                print('Такой полки не существует. Текущий перечень полок:',str(\",\".join(str(x) for x in list(map(int,directories.keys())))))\n",
    "            elif number_shelf2 in directories.keys():\n",
    "                if directories[number_shelf2] == []:\n",
    "                    del directories[number_shelf2]\n",
    "                    print('Полка удалена. Текущий перечень полок:',str(\",\".join(str(x) for x in list(map(int,directories.keys())))))\n",
    "                elif directories[number_shelf2] !=[]:\n",
    "                    print('На полке есть документа, удалите их перед удалением полки. Текущий перечень полок:',str(\",\".join(str(x) for x in list(map(int,directories.keys())))))\n",
    "             \n",
    "    if command == 'q':\n",
    "        print('Завершение работы функции')"
   ]
  },
  {
   "cell_type": "markdown",
   "metadata": {},
   "source": [
    "##### Пункт 1."
   ]
  },
  {
   "cell_type": "code",
   "execution_count": 3,
   "metadata": {},
   "outputs": [
    {
     "name": "stdout",
     "output_type": "stream",
     "text": [
      "Введите команду:p\n",
      "Введите номер документа 10006\n",
      "Владелец документа:Аристарх Павлов\n",
      "Введите команду:p\n",
      "Введите номер документа 12345\n",
      "Документ не найден в базе\n",
      "Введите команду:q\n",
      "Завершение работы функции\n"
     ]
    }
   ],
   "source": [
    "test(documents,directories)"
   ]
  },
  {
   "cell_type": "markdown",
   "metadata": {},
   "source": [
    "##### Пункт 2."
   ]
  },
  {
   "cell_type": "code",
   "execution_count": 4,
   "metadata": {},
   "outputs": [
    {
     "name": "stdout",
     "output_type": "stream",
     "text": [
      "Введите команду:s\n",
      "Введите номер документа:10006\n",
      "Документ хранится на полке:2\n",
      "Введите команду:p\n",
      "Введите номер документа 12345\n",
      "Документ не найден в базе\n",
      "Введите команду:q\n",
      "Завершение работы функции\n"
     ]
    }
   ],
   "source": [
    "test(documents,directories)"
   ]
  },
  {
   "cell_type": "markdown",
   "metadata": {},
   "source": [
    "##### Пункт 3."
   ]
  },
  {
   "cell_type": "code",
   "execution_count": 5,
   "metadata": {},
   "outputs": [
    {
     "name": "stdout",
     "output_type": "stream",
     "text": [
      "Введите команду:l\n",
      "№: 2207 876234 , тип: passport , владелец: Василий Гупкин , полка хранения: 1\n",
      "№: 11-2 , тип: invoice , владелец: Геннадий Покемонов , полка хранения: 1\n",
      "№: 10006 , тип: insurance , владелец: Аристарх Павлов , полка хранения: 2\n",
      "Введите команду:q\n",
      "Завершение работы функции\n"
     ]
    }
   ],
   "source": [
    "test(documents,directories)"
   ]
  },
  {
   "cell_type": "markdown",
   "metadata": {},
   "source": [
    "##### Пункт 4."
   ]
  },
  {
   "cell_type": "code",
   "execution_count": 8,
   "metadata": {
    "scrolled": true
   },
   "outputs": [
    {
     "name": "stdout",
     "output_type": "stream",
     "text": [
      "Введите команду:as\n",
      "Введите номер полки:10\n",
      "Полка добавлена. Текущий перечень полок:1,2,3,10\n",
      "Введите команду:as\n",
      "Введите номер полки:1\n",
      "Такая полка уже существует. Текущий перечень полок:1,2,3,10\n",
      "Введите команду:q\n",
      "Завершение работы функции\n"
     ]
    }
   ],
   "source": [
    "test(documents,directories)"
   ]
  },
  {
   "cell_type": "markdown",
   "metadata": {},
   "source": [
    "##### Пункт 5."
   ]
  },
  {
   "cell_type": "code",
   "execution_count": 13,
   "metadata": {},
   "outputs": [
    {
     "name": "stdout",
     "output_type": "stream",
     "text": [
      "Введите команду:ds\n",
      "Введите номер полки:3\n",
      "Полка удалена. Текущий перечень полок: 1,2\n",
      "Введите команду:ds\n",
      "Введите номер полки:1\n",
      "На полке есть документа, удалите их перед удалением полки. Текущий перечень полок: 1,2\n",
      "Введите команду:ds\n",
      "Введите номер полки:4\n",
      "Такой полки не существует. Текущий перечень полок: 1,2\n",
      "Введите команду:q\n",
      "Завершение работы функции\n"
     ]
    }
   ],
   "source": [
    "test(documents,directories)"
   ]
  },
  {
   "cell_type": "code",
   "execution_count": null,
   "metadata": {},
   "outputs": [],
   "source": []
  }
 ],
 "metadata": {
  "kernelspec": {
   "display_name": "Python 3",
   "language": "python",
   "name": "python3"
  },
  "language_info": {
   "codemirror_mode": {
    "name": "ipython",
    "version": 3
   },
   "file_extension": ".py",
   "mimetype": "text/x-python",
   "name": "python",
   "nbconvert_exporter": "python",
   "pygments_lexer": "ipython3",
   "version": "3.8.3"
  }
 },
 "nbformat": 4,
 "nbformat_minor": 4
}

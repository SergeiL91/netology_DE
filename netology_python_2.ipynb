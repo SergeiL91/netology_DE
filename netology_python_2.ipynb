{
 "cells": [
  {
   "cell_type": "markdown",
   "metadata": {},
   "source": [
    "## Задание 1\n",
    "Дана переменная, в которой хранится слово из латинских букв. Напишите код, который выводит на экран:\n",
    "\n",
    "среднюю букву, если число букв в слове нечетное;\n",
    "две средних буквы, если число букв четное."
   ]
  },
  {
   "cell_type": "code",
   "execution_count": 46,
   "metadata": {},
   "outputs": [
    {
     "name": "stdout",
     "output_type": "stream",
     "text": [
      "Введите слово:питон\n",
      "т\n"
     ]
    }
   ],
   "source": [
    "a = input(\"Введите слово:\")\n",
    "if len(a)%2 ==0:\n",
    "    b = int(len(a)/2)-1\n",
    "    c = int(len(a)/2)+1\n",
    "    print(a[b:c])\n",
    "else:\n",
    "    b = int(len(a)/2)\n",
    "    c = int(len(a)/2)+1\n",
    "    print(a[b:c])"
   ]
  },
  {
   "cell_type": "code",
   "execution_count": 48,
   "metadata": {},
   "outputs": [
    {
     "name": "stdout",
     "output_type": "stream",
     "text": [
      "Введите слово:синхрофазотрон\n",
      "фа\n"
     ]
    }
   ],
   "source": [
    "a = input(\"Введите слово:\")\n",
    "if len(a)%2 ==0:\n",
    "    b = int(len(a)/2)-1\n",
    "    c = int(len(a)/2)+1\n",
    "    print(a[b:c])\n",
    "else:\n",
    "    b = int(len(a)/2)\n",
    "    c = int(len(a)/2)+1\n",
    "    print(a[b:c])"
   ]
  },
  {
   "cell_type": "markdown",
   "metadata": {},
   "source": [
    "## Задание 2\n",
    "Напишите программу, которая последовательно запрашивает у пользователя числа (по одному за раз) и после первого нуля выводит сумму всех ранее введенных чисел."
   ]
  },
  {
   "cell_type": "code",
   "execution_count": 6,
   "metadata": {},
   "outputs": [
    {
     "name": "stdout",
     "output_type": "stream",
     "text": [
      "введите число 6\n",
      "введите число 6\n",
      "введите число 6\n",
      "введите число 0\n",
      "18\n"
     ]
    }
   ],
   "source": [
    "a = 1\n",
    "b = 0\n",
    "while a != 0:\n",
    "    a = int(input('введите число '))\n",
    "    b = b+a\n",
    "else:\n",
    "    print(b)"
   ]
  },
  {
   "cell_type": "markdown",
   "metadata": {},
   "source": [
    "## Задание 3\n",
    "Мы делаем MVP dating-сервиса, и у нас есть список парней и девушек.\n",
    "Выдвигаем гипотезу: лучшие рекомендации мы получим, если просто отсортируем имена по алфавиту и познакомим людей с одинаковыми индексами после сортировки! Но мы не будем никого знакомить, если кто-то может остаться без пары:"
   ]
  },
  {
   "cell_type": "code",
   "execution_count": 42,
   "metadata": {},
   "outputs": [
    {
     "name": "stdout",
     "output_type": "stream",
     "text": [
      "Идеальные пары:\n",
      "Alex и Emma\n",
      "Идеальные пары:\n",
      "Arthur и Kate\n",
      "Идеальные пары:\n",
      "John и Kira\n",
      "Идеальные пары:\n",
      "Peter и Liza\n",
      "Идеальные пары:\n",
      "Richard и Trisha\n"
     ]
    }
   ],
   "source": [
    "boys =sorted(['Peter', 'Alex', 'John', 'Arthur', 'Richard'])\n",
    "girls =sorted( ['Kate', 'Liza', 'Kira', 'Emma', 'Trisha'])\n",
    "a=0\n",
    "b=0\n",
    "if len(boys) != len(girls):\n",
    "    print('Внимание, кто-то может остаться без пары!')\n",
    "else:\n",
    "    while a !=len(boys):\n",
    "        print('Идеальные пары:')\n",
    "        print(boys[b], \"и\", girls[a])\n",
    "        a = a+1\n",
    "        b = b+1"
   ]
  },
  {
   "cell_type": "code",
   "execution_count": 41,
   "metadata": {},
   "outputs": [
    {
     "name": "stdout",
     "output_type": "stream",
     "text": [
      "Внимание, кто-то может остаться без пары!\n"
     ]
    }
   ],
   "source": [
    "boys =sorted(['Peter', 'Alex', 'John', 'Arthur', 'Richard','Николай'])\n",
    "girls =sorted( ['Kate', 'Liza', 'Kira', 'Emma', 'Trisha'])\n",
    "a=0\n",
    "b=0\n",
    "if len(boys) != len(girls):\n",
    "    print('Внимание, кто-то может остаться без пары!')\n",
    "else:\n",
    "    while a !=len(boys):\n",
    "        print('Идеальные пары:')\n",
    "        print(boys[b], \"и\", girls[a])\n",
    "        a = a+1\n",
    "        b = b+1"
   ]
  },
  {
   "cell_type": "markdown",
   "metadata": {},
   "source": [
    "## Задание 4\n",
    "У нас есть список, содержащий информацию о среднедневной температуре в Фаренгейтах за произвольный период по странам (структура данных в примере). Необходимо написать код, который рассчитает среднюю температуру за период в Цельсиях(!) для каждой страны.\n"
   ]
  },
  {
   "cell_type": "code",
   "execution_count": 130,
   "metadata": {},
   "outputs": [],
   "source": [
    "countries_temperature = [\n",
    "['Thailand', [75.2, 77, 78.8, 73.4, 68, 75.2, 77]],\n",
    "['Germany', [57.2, 55.4, 59, 59, 53.6]],\n",
    "['Russia', [35.6, 37.4, 39.2, 41, 42.8, 39.2, 35.6]],\n",
    "['Poland', [50, 50, 53.6, 57.2, 55.4, 55.4]]\n",
    "]"
   ]
  },
  {
   "cell_type": "code",
   "execution_count": 131,
   "metadata": {},
   "outputs": [
    {
     "name": "stdout",
     "output_type": "stream",
     "text": [
      "Thailand - 23.9 C\n",
      "Germany - 13.8 C\n",
      "Russia - 3.7 C\n",
      "Poland - 12.0 C\n"
     ]
    }
   ],
   "source": [
    "for country in countries_temperature:\n",
    "    print(country[0],'-',round((((sum(country[:][1])/len(country[:][1]))-32)/1.8),1),'C' )"
   ]
  },
  {
   "cell_type": "markdown",
   "metadata": {},
   "source": [
    "## Задание 5 (необязательное)\n",
    "Дан поток логов по количеству просмотренных страниц для каждого пользователя. Вам необходимо написать алгоритм, который считает среднее значение просмотров на пользователя. Т. е. надо посчитать отношение суммы всех просмотров к количеству уникальных пользователей."
   ]
  },
  {
   "cell_type": "code",
   "execution_count": 3,
   "metadata": {},
   "outputs": [],
   "source": [
    "stream = [\n",
    "'2018-01-01,user1,3',\n",
    "'2018-01-07,user1,4',\n",
    "'2018-03-29,user1,1',\n",
    "'2018-04-04,user1,13',\n",
    "'2018-01-05,user2,7',\n",
    "'2018-06-14,user3,4',\n",
    "'2018-07-02,user3,10',\n",
    "'2018-03-21,user4,19',\n",
    "'2018-03-22,user4,4',\n",
    "'2018-04-22,user4,8',\n",
    "'2018-05-03,user4,9',\n",
    "'2018-05-11,user4,11',\n",
    "]"
   ]
  },
  {
   "cell_type": "code",
   "execution_count": 64,
   "metadata": {},
   "outputs": [
    {
     "name": "stdout",
     "output_type": "stream",
     "text": [
      "Среднее количество просмотров на уникального пользователя 23.25\n"
     ]
    }
   ],
   "source": [
    "b = []\n",
    "for i in stream:\n",
    "    b+=(i.split(',')[1][-1:])\n",
    "b = len(set(b))\n",
    "sum_v = 0\n",
    "for i in stream:\n",
    "    sum_v += int(i.split(',')[2])/b\n",
    "print('Среднее количество просмотров на уникального пользователя', sum_v)"
   ]
  }
 ],
 "metadata": {
  "kernelspec": {
   "display_name": "Python 3",
   "language": "python",
   "name": "python3"
  },
  "language_info": {
   "codemirror_mode": {
    "name": "ipython",
    "version": 3
   },
   "file_extension": ".py",
   "mimetype": "text/x-python",
   "name": "python",
   "nbconvert_exporter": "python",
   "pygments_lexer": "ipython3",
   "version": "3.8.3"
  }
 },
 "nbformat": 4,
 "nbformat_minor": 4
}

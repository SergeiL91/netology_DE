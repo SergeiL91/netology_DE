{
 "cells": [
  {
   "cell_type": "markdown",
   "metadata": {},
   "source": [
    "#### Выберите 15 стран с наибольшим процентом переболевших на 31 марта (в выходящем датасете необходимы колонки: iso_code, страна, процент переболевших)"
   ]
  },
  {
   "cell_type": "code",
   "execution_count": null,
   "metadata": {},
   "outputs": [],
   "source": [
    ">>> df = spark.read.option('header', True).csv('owid-covid-data.csv')\n",
    "df = df.withColumn(\"total_cases_per_million\", df[\"total_cases_per_million\"].cast(IntegerType()))\n",
    ">>> df.select('iso_code','location','date',\n",
    "'total_cases_per_million').where(df.date ==\"2020-03-31\").sort(\"total_cases_per_million\",ascending =False).show(15)"
   ]
  },
  {
   "cell_type": "code",
   "execution_count": null,
   "metadata": {},
   "outputs": [],
   "source": [
    "+--------+--------------+----------+-----------------------+\n",
    "|iso_code|      location|      date|total_cases_per_million|\n",
    "+--------+--------------+----------+-----------------------+\n",
    "|     VAT|       Vatican|2020-03-31|                   7416|\n",
    "|     SMR|    San Marino|2020-03-31|                   6953|\n",
    "|     AND|       Andorra|2020-03-31|                   4866|\n",
    "|     LUX|    Luxembourg|2020-03-31|                   3479|\n",
    "|     ISL|       Iceland|2020-03-31|                   3326|\n",
    "|     ESP|         Spain|2020-03-31|                   2051|\n",
    "|     CHE|   Switzerland|2020-03-31|                   1918|\n",
    "|     LIE| Liechtenstein|2020-03-31|                   1783|\n",
    "|     ITA|         Italy|2020-03-31|                   1749|\n",
    "|     MCO|        Monaco|2020-03-31|                   1325|\n",
    "|     AUT|       Austria|2020-03-31|                   1130|\n",
    "|     BEL|       Belgium|2020-03-31|                   1102|\n",
    "|OWID_EUN|European Union|2020-03-31|                    893|\n",
    "|     DEU|       Germany|2020-03-31|                    857|\n",
    "|     NOR|        Norway|2020-03-31|                    856|\n",
    "+--------+--------------+----------+-----------------------+\n",
    "only showing top 15 rows"
   ]
  },
  {
   "cell_type": "markdown",
   "metadata": {},
   "source": [
    "#### Top 10 стран с максимальным зафиксированным кол-вом новых случаев за последнюю неделю марта 2021 в отсортированном порядке по убыванию (в выходящем датасете необходимы колонки: число, страна, кол-во новых случаев)"
   ]
  },
  {
   "cell_type": "code",
   "execution_count": null,
   "metadata": {},
   "outputs": [],
   "source": [
    ">>> df = df.withColumn(\"new_cases\", df[\"new_cases\"].cast(IntegerType()))\n",
    ">>> list_ = ['World','Europe','European Union','North America','United States','Asia']\n",
    ">>> df.select(df.iso_code,df.location,df.date,df.new_cases).where(\"2020-03-22\" < \n",
    "df.date).where(\"2020-03-30\"> df.date).filter(~df.location.isin(list_)).sort(\"new_cases\",\n",
    "ascending =False).groupBy('location').sum('new_cases').sort(\"sum(new_cases)\",ascending =False).show(10)"
   ]
  },
  {
   "cell_type": "code",
   "execution_count": null,
   "metadata": {},
   "outputs": [],
   "source": [
    "+--------------+--------------+\n",
    "|      location|sum(new_cases)|\n",
    "+--------------+--------------+\n",
    "|         Spain|         51342|\n",
    "|         Italy|         38551|\n",
    "|       Germany|         37222|\n",
    "|        France|         23537|\n",
    "|United Kingdom|         19559|\n",
    "|          Iran|         16671|\n",
    "|        Turkey|          7981|\n",
    "|       Belgium|          7435|\n",
    "|   Switzerland|          7355|\n",
    "| South America|          7128|\n",
    "+--------------+--------------+"
   ]
  },
  {
   "cell_type": "markdown",
   "metadata": {},
   "source": [
    "#### Посчитайте изменение случаев относительно предыдущего дня в России за последнюю неделю марта 2021. (например: в россии вчера было 9150 , сегодня 8763, итог: -387) (в выходящем датасете необходимы колонки: число, кол-во новых случаев вчера, кол-во новых случаев сегодня, дельта)"
   ]
  },
  {
   "cell_type": "code",
   "execution_count": null,
   "metadata": {},
   "outputs": [],
   "source": [
    ">>> yesterday_df = df.select(df.iso_code,df.location,df.date,df.new_cases).where(\"2020-03-21\"< df.date).where(\"2020-03-29\"> \n",
    "df.date).filter(df.location ==\"Russia\")\n",
    ">>> yesterday_df = yesterday_df.select(yesterday_df.iso_code.alias(\"iso_code\"),yesterday_df.date.\n",
    "            alias(\"date\"),yesterday_df.location.alias(\"location\"),yesterday_df.new_cases.alias(\"yesterday\"))\n",
    ">>> now_df = df.select(df.iso_code,df.location,df.date,df.new_cases).where(\"2020-03-22\" < df.date).where(\"2020-03-30\">\n",
    "            df.date).filter(df.location ==\"Russia\")"
   ]
  },
  {
   "cell_type": "code",
   "execution_count": null,
   "metadata": {},
   "outputs": [],
   "source": [
    ">>> yesterday_df = yesterday_df.withColumn('date', F.date_add(yesterday_df['date'], 1))"
   ]
  },
  {
   "cell_type": "code",
   "execution_count": null,
   "metadata": {},
   "outputs": [],
   "source": [
    "total_df = now_df.join(yesterday_df, now_df.date == yesterday_df.date, 'outer').select(now_df.iso_code,\n",
    "    now_df.location,now_df.date,now_df.new_cases,yesterday_df.yesterday)"
   ]
  },
  {
   "cell_type": "code",
   "execution_count": null,
   "metadata": {},
   "outputs": [],
   "source": [
    ">>> total_df = total_df.withColumn('delta',  total_df.new_cases - total_df.yesterday ).orderBy('date')\n",
    ">>> total_df.show(8)"
   ]
  },
  {
   "cell_type": "code",
   "execution_count": null,
   "metadata": {},
   "outputs": [],
   "source": [
    "+--------+--------+----------+---------+---------+------+\n",
    "|iso_code|location|      date|new_cases|yesterday| delta|\n",
    "+--------+--------+----------+---------+---------+------+\n",
    "|     RUS|  Russia|2020-03-23|     71.0|     61.0|  10.0|\n",
    "|     RUS|  Russia|2020-03-24|     57.0|     71.0| -14.0|\n",
    "|     RUS|  Russia|2020-03-25|    163.0|     57.0| 106.0|\n",
    "|     RUS|  Russia|2020-03-26|    182.0|    163.0|  19.0|\n",
    "|     RUS|  Russia|2020-03-27|    196.0|    182.0|  14.0|\n",
    "|     RUS|  Russia|2020-03-28|    228.0|    196.0|  32.0|\n",
    "|     RUS|  Russia|2020-03-29|    270.0|    228.0|  42.0|\n",
    "+--------+--------+----------+---------+---------+------+"
   ]
  }
 ],
 "metadata": {
  "kernelspec": {
   "display_name": "Python 3",
   "language": "python",
   "name": "python3"
  },
  "language_info": {
   "codemirror_mode": {
    "name": "ipython",
    "version": 3
   },
   "file_extension": ".py",
   "mimetype": "text/x-python",
   "name": "python",
   "nbconvert_exporter": "python",
   "pygments_lexer": "ipython3",
   "version": "3.8.3"
  }
 },
 "nbformat": 4,
 "nbformat_minor": 4
}

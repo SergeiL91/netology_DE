{
 "cells": [
  {
   "cell_type": "markdown",
   "metadata": {},
   "source": [
    "## MAP"
   ]
  },
  {
   "cell_type": "code",
   "execution_count": null,
   "metadata": {},
   "outputs": [],
   "source": [
    "with open('keywords_after_mapper.csv','w') as f_mapper:\n",
    "    with open('C:\\\\Users\\\\Сергей\\\\keywords.csv') as f:\n",
    "        for line in f:\n",
    "            keywords,shows = line.strip().split(',')\n",
    "            for keyword in keywords.split(' '):\n",
    "                f_mapper.write(f'{keyword},1\\n')"
   ]
  },
  {
   "cell_type": "markdown",
   "metadata": {},
   "source": [
    "## REDUCE"
   ]
  },
  {
   "cell_type": "code",
   "execution_count": null,
   "metadata": {},
   "outputs": [],
   "source": [
    "previous_keyword = None\n",
    "keyword_count = 0\n",
    "with open('keywords_sorted.csv') as f:\n",
    "    for line in f:\n",
    "        keyword, one = line.strip().split(',')\n",
    "        one = int(one)\n",
    "        \n",
    "        if previous_keyword:\n",
    "            if previous_keyword == keyword:\n",
    "                keyword_count += one\n",
    "            else :\n",
    "                print(previous_keyword, keyword_count)\n",
    "                keyword_count = one\n",
    "                previous_keyword = keyword\n",
    "        else:\n",
    "            previous_keyword = keyword\n",
    "            keyword_count = one\n",
    "print(previous_keyword,keyword_count)  "
   ]
  }
 ],
 "metadata": {
  "kernelspec": {
   "display_name": "Python 3",
   "language": "python",
   "name": "python3"
  },
  "language_info": {
   "codemirror_mode": {
    "name": "ipython",
    "version": 3
   },
   "file_extension": ".py",
   "mimetype": "text/x-python",
   "name": "python",
   "nbconvert_exporter": "python",
   "pygments_lexer": "ipython3",
   "version": "3.8.3"
  }
 },
 "nbformat": 4,
 "nbformat_minor": 4
}

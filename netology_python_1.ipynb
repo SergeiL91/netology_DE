{
 "cells": [
  {
   "cell_type": "markdown",
   "metadata": {},
   "source": [
    "### Задание 1\n",
    "Даны 2 переменных, в которых хранятся строки произвольной длины: phrase_1 и phrase_2.\n",
    "Напишите код, который проверяет какая из этих строк длиннее."
   ]
  },
  {
   "cell_type": "code",
   "execution_count": 1,
   "metadata": {},
   "outputs": [],
   "source": [
    "phrase_1 = 'Насколько проще было бы писать программы, если бы не заказчики'\n",
    "phrase_2 = 'Насколько проще было бы писать программы, если бы не заказчики'\n",
    "\n",
    "if len(phrase_1) > len(phrase_2):\n",
    "    print('Фраза 1 длиннее фразы 2')\n",
    "elif len(phrase_1) < len(phrase_2):\n",
    "    print('Фраза 2 длиннее фразы 1')\n",
    "else:\n",
    "    print('Фразы равной длины')"
   ]
  },
  {
   "cell_type": "markdown",
   "metadata": {},
   "source": [
    "### Задание 2\n",
    "Дана переменная, в которой хранится четырехзначное число (год). Необходимо написать программу, которая выведет, является ли данный год високосным или обычным."
   ]
  },
  {
   "cell_type": "code",
   "execution_count": 2,
   "metadata": {},
   "outputs": [
    {
     "name": "stdout",
     "output_type": "stream",
     "text": [
      "Високосный год\n"
     ]
    }
   ],
   "source": [
    "year = 2016\n",
    "if year%4 ==0:\n",
    "    print('Високосный год')\n",
    "else:\n",
    "    print('Обычный год')"
   ]
  },
  {
   "cell_type": "markdown",
   "metadata": {},
   "source": [
    "### Задание 3\n",
    "Необходимо написать программу, которая будет запрашивать у пользователя месяц и дату рождения и выводить соответствующий знак зодиака."
   ]
  },
  {
   "cell_type": "code",
   "execution_count": null,
   "metadata": {},
   "outputs": [],
   "source": [
    "month = input(\"Введите месяц:\").lower()\n",
    "day = int(input(\"Введите день:\"))\n",
    "if month ==\"январь\" and 0<day<= 19  :\n",
    "    print('Результат:')\n",
    "    print('Ваш знак зодиака: Козерог')\n",
    "elif month ==\"январь\" and 32> day> 19:\n",
    "    print('Результат:')\n",
    "    print('Ваш знак зодиака: Водолей')    \n",
    "elif month ==\"февраль\" and 0< day<= 19:\n",
    "    print('Результат:')\n",
    "    print('Ваш знак зодиака: Водолей')\n",
    "elif month ==\"февраль\" and 30> day> 19:\n",
    "    print('Результат:')\n",
    "    print('Ваш знак зодиака: Рыбы')\n",
    "elif month ==\"март\" and 0> day<=20:\n",
    "    print('Результат:')\n",
    "    print('Ваш знак зодиака: Рыбы')\n",
    "elif month ==\"март\" and 32> day> 20:\n",
    "    print('Результат:')\n",
    "    print('Ваш знак зодиака: Овен')        \n",
    "elif month ==\"апрель\" and 0> day<= 20:\n",
    "    print('Результат:')\n",
    "    print('Ваш знак зодиака: Овен')\n",
    "elif month ==\"апрель\" and 31> day> 20:\n",
    "    print('Результат:')\n",
    "    print('Ваш знак зодиака: Телец')\n",
    "elif month ==\"май\" and 0< day<= 20:\n",
    "    print('Результат:')\n",
    "    print('Ваш знак зодиака: Телец')\n",
    "elif month ==\"май\" and  32> day> 20:\n",
    "    print('Результат:')\n",
    "    print('Ваш знак зодиака: Близнецы')\n",
    "elif month ==\"июнь\" and 0< day<= 21:\n",
    "    print('Результат:')\n",
    "    print('Ваш знак зодиака: Близнецы')\n",
    "elif month ==\"июнь\" and 31< day> 21:\n",
    "    print('Результат:')\n",
    "    print('Ваш знак зодиака: Рак')        \n",
    "elif month ==\"июль\" and 0 < day<= 22:\n",
    "    print('Результат:')\n",
    "    print('Ваш знак зодиака: Рак')\n",
    "elif month ==\"июль\" and 31> day> 22:\n",
    "    print('Результат:')\n",
    "    print('Ваш знак зодиака: Лев')    \n",
    "elif month ==\"август\" and 0<day<= 22:\n",
    "    print('Результат:')\n",
    "    print('Ваш знак зодиака: Лев')\n",
    "elif month ==\"август\" and 32> day> 22:\n",
    "    print('Результат:')\n",
    "    print('Ваш знак зодиака: Дева')    \n",
    "elif month ==\"сентябрь\" and 0< day<= 22:\n",
    "    print('Результат:')\n",
    "    print('Ваш знак зодиака: Дева')\n",
    "elif month ==\"сентябрь\" and 31>day> 22:\n",
    "    print('Результат:')\n",
    "    print('Ваш знак зодиака: Весы')     \n",
    "elif month ==\"октябрь\" and 0<day<= 22:\n",
    "    print('Результат:')\n",
    "    print('Ваш знак зодиака: Весы')\n",
    "elif month ==\"октябрь\" and 32> day> 22:\n",
    "    print('Результат:')\n",
    "    print('Ваш знак зодиака: Скорпион') \n",
    "elif month ==\"ноябрь\" and 0< day<= 21:\n",
    "    print('Результат:')\n",
    "    print('Ваш знак зодиака: Скорпион')\n",
    "elif month ==\"ноябрь\" and 31< day> 22:\n",
    "    print('Результат:')\n",
    "    print('Ваш знак зодиака: Стрелец')\n",
    "elif month ==\"декабрь\" and 0< day<= 20:\n",
    "    print('Результат:')\n",
    "    print('Ваш знак зодиака: Стрелец')\n",
    "elif month ==\"декабрь\" and 32> day> 22:\n",
    "    print('Результат:')\n",
    "    print('Ваш знак зодиака: Козерог') \n",
    "else:\n",
    "    print('Введены некорректные данные')   "
   ]
  },
  {
   "cell_type": "markdown",
   "metadata": {},
   "source": [
    "### Задание 4\n",
    "\n",
    "Вам нужно написать программу для подбора упаковок по размерам товара. Размеры хранятся в переменных (в сантиметрах):\n",
    "\n",
    "width = 10\n",
    "\n",
    "length = 205\n",
    "\n",
    "height = 5\n",
    "\n",
    "Используйте следующие правила:\n",
    "если каждое из трех измерений менее 15 сантиметров, то выведите на экран “Коробка №1”;\n",
    "если хотя бы одно из измерений больше 15 сантиметров, но менее 50 сантиметров, то выводите “Коробка №2”;\n",
    "если длина товара больше 2 метров, то выводите “Упаковка для лыж”;\n",
    "во всех остальных случаях выводите “Стандартная коробка №3”."
   ]
  },
  {
   "cell_type": "code",
   "execution_count": 79,
   "metadata": {},
   "outputs": [
    {
     "name": "stdout",
     "output_type": "stream",
     "text": [
      "Ширина:10\n",
      "Длина:205\n",
      "Высота:40\n",
      "Упаковка для лыж\n"
     ]
    }
   ],
   "source": [
    "width = int(input(\"Ширина:\"))\n",
    "length = int(input(\"Длина:\"))\n",
    "height = int(input(\"Высота:\"))\n",
    "if width<15 and length<15 and height<15:\n",
    "    print('Коробка №1')\n",
    "elif length > 200:\n",
    "    print('Упаковка для лыж')    \n",
    "elif 50>width>15 or 50>height<15 or 50>length<15:\n",
    "    print('Коробка №2')\n",
    "else:\n",
    "    print('Стандартная коробка №3')"
   ]
  },
  {
   "cell_type": "markdown",
   "metadata": {},
   "source": [
    "### Задание 5 (необязательное)\n",
    "Дана переменная, в которой хранится шестизначное число (номер проездного билета). Напишите программу, которая будет определять, является ли данный билет “счастливым”. Билет считается счастливым, если сумма первых трех цифр совпадает с суммой последних трех цифр номера."
   ]
  },
  {
   "cell_type": "code",
   "execution_count": 43,
   "metadata": {},
   "outputs": [
    {
     "name": "stdout",
     "output_type": "stream",
     "text": [
      "number:456564\n",
      "Результат:\n",
      "Счастливый билет\n"
     ]
    }
   ],
   "source": [
    "number = input(\"number:\")\n",
    "if int(number[0])+int(number[1])+int(number[2]) == int(number[3])+int(number[4])+int(number[5]):\n",
    "    print('Результат:')\n",
    "    print('Счастливый билет')\n",
    "else:\n",
    "    print('Результат:')\n",
    "    print('Несчастливый билет')"
   ]
  },
  {
   "cell_type": "code",
   "execution_count": 21,
   "metadata": {},
   "outputs": [
    {
     "data": {
      "text/plain": [
       "'5445546'"
      ]
     },
     "execution_count": 21,
     "metadata": {},
     "output_type": "execute_result"
    }
   ],
   "source": [
    "number"
   ]
  },
  {
   "cell_type": "code",
   "execution_count": 40,
   "metadata": {},
   "outputs": [
    {
     "data": {
      "text/plain": [
       "5"
      ]
     },
     "execution_count": 40,
     "metadata": {},
     "output_type": "execute_result"
    }
   ],
   "source": [
    "int(number[0])"
   ]
  },
  {
   "cell_type": "code",
   "execution_count": null,
   "metadata": {},
   "outputs": [],
   "source": [
    "number = 123321\n",
    "Результат:\n",
    "Счастливый билет"
   ]
  },
  {
   "cell_type": "markdown",
   "metadata": {},
   "source": [
    "### Задание 6 (необязательное)\n",
    "Напишите программу, которая сможет вычислять площади трех фигур (круг, треугольник и прямоугольник). Тип фигуры запрашиваем через пользовательский ввод, после чего делаем запрос характеристик фигуры:\n",
    "\n",
    "если пользователь выбрал круг, запрашиваем его радиус,\n",
    "если треугольник – длины трех его сторон;\n",
    "если прямоугольник – длины двух его сторон."
   ]
  },
  {
   "cell_type": "code",
   "execution_count": 78,
   "metadata": {},
   "outputs": [
    {
     "name": "stdout",
     "output_type": "stream",
     "text": [
      "Введите тип фигуры(круг, треугольник и прямоугольник):Прямоугольник\n",
      "Введите длину стороны A:2\n",
      "Введите длину стороны B:3\n",
      "Площадь треугольника: 6.0\n"
     ]
    }
   ],
   "source": [
    "figure = input(\"Введите тип фигуры(круг, треугольник и прямоугольник):\").lower()\n",
    "if figure =='круг':\n",
    "    area = float(input(\"Введите площадь:\").replace(',', '.'))\n",
    "    print('Площадь круга:',round(area *3.14,2))\n",
    "if figure =='треугольник':\n",
    "    a = float(input(\"Введите длину стороны A:\").replace(',', '.'))\n",
    "    b = float(input(\"Введите длину стороны B:\").replace(',', '.'))\n",
    "    c = float(input(\"Введите длину стороны C:\").replace(',', '.'))\n",
    "    p = (a+b+c)/2\n",
    "    print('Площадь треугольника:',round((p * (p - a)*(p - b)*(p - c))** (0.5),2))\n",
    "if figure =='прямоугольник':\n",
    "    a = float(input(\"Введите длину стороны A:\").replace(',', '.'))\n",
    "    b = float(input(\"Введите длину стороны B:\").replace(',', '.'))\n",
    "    print('Площадь треугольника:',round(a*b,2))\n"
   ]
  },
  {
   "cell_type": "code",
   "execution_count": 62,
   "metadata": {},
   "outputs": [
    {
     "name": "stdout",
     "output_type": "stream",
     "text": [
      "Введите площадь:3,14\n"
     ]
    }
   ],
   "source": [
    "area = input(\"Введите площадь:\")"
   ]
  },
  {
   "cell_type": "code",
   "execution_count": 66,
   "metadata": {},
   "outputs": [
    {
     "data": {
      "text/plain": [
       "3.14"
      ]
     },
     "execution_count": 66,
     "metadata": {},
     "output_type": "execute_result"
    }
   ],
   "source": [
    "float(area.replace(',', '.'))"
   ]
  },
  {
   "cell_type": "code",
   "execution_count": 55,
   "metadata": {},
   "outputs": [
    {
     "data": {
      "text/plain": [
       "3.1477"
      ]
     },
     "execution_count": 55,
     "metadata": {},
     "output_type": "execute_result"
    }
   ],
   "source": [
    "area"
   ]
  },
  {
   "cell_type": "code",
   "execution_count": null,
   "metadata": {},
   "outputs": [],
   "source": []
  }
 ],
 "metadata": {
  "kernelspec": {
   "display_name": "Python 3",
   "language": "python",
   "name": "python3"
  },
  "language_info": {
   "codemirror_mode": {
    "name": "ipython",
    "version": 3
   },
   "file_extension": ".py",
   "mimetype": "text/x-python",
   "name": "python",
   "nbconvert_exporter": "python",
   "pygments_lexer": "ipython3",
   "version": "3.8.3"
  }
 },
 "nbformat": 4,
 "nbformat_minor": 4
}

{
 "cells": [
  {
   "cell_type": "code",
   "execution_count": 3,
   "metadata": {},
   "outputs": [],
   "source": [
    "import re"
   ]
  },
  {
   "cell_type": "markdown",
   "metadata": {},
   "source": [
    "## Задание 1\n",
    "Напишите функцию, которая принимает на вход строку и проверяет является ли она валидным транспортным номером (1 буква, 3 цифры, 2 буквы, 2-3 цифры). Обратите внимание, что не все буквы кириллического алфавита используются в транспортных номерах.\n",
    "\n",
    "Если номер валиден, то функция должна возвращать отдельно номер и регион."
   ]
  },
  {
   "cell_type": "code",
   "execution_count": 222,
   "metadata": {},
   "outputs": [],
   "source": [
    "numbers = ['А222ВС96','АБ22ВВ193']"
   ]
  },
  {
   "cell_type": "code",
   "execution_count": 223,
   "metadata": {},
   "outputs": [],
   "source": [
    "def numb_test(numbers):    \n",
    "    for i in numbers:\n",
    "        # results = список букв, которые не используются в номерах авто, кроме буквы Ё.\n",
    "        results = re.findall(r'[^Й,Ц,Г,Ш,Щ,З,Ф,Ы,Н,Л,Д,Ж,Э,Я,Ч,Ь,Ъ,Б,Ю]{8,9}', i)\n",
    "        if len(results) >0:\n",
    "            for i in results:\n",
    "                results = re.match(r'[А-Я]{1}[0-9]{3}[А-Я]{2}[0-9]{2,3}', i)\n",
    "                if results == None:\n",
    "                    print('Номер не валиден')\n",
    "                else:\n",
    "                    print('Результат: Номер',results.group()[0:6], 'валиден. Регион:',results.group()[6:])\n",
    "        else:\n",
    "            print('Номер не валиден')"
   ]
  },
  {
   "cell_type": "code",
   "execution_count": 224,
   "metadata": {},
   "outputs": [
    {
     "name": "stdout",
     "output_type": "stream",
     "text": [
      "Результат: Номер А222ВС валиден. Регион: 96\n",
      "Номер не валиден\n"
     ]
    }
   ],
   "source": [
    "numb_test(numbers)"
   ]
  },
  {
   "cell_type": "markdown",
   "metadata": {},
   "source": [
    "## Задание 2\n",
    "Напишите функцию, которая будет удалять все последовательные повторы слов из заданной строки при помощи регулярных выражений."
   ]
  },
  {
   "cell_type": "code",
   "execution_count": 226,
   "metadata": {},
   "outputs": [],
   "source": [
    "some_string = 'Напишите функцию функцию, которая будет будет будет будет удалять \\\n",
    "все все все все последовательные повторы слов из из из из заданной строки строки при помощи регулярных выражений'"
   ]
  },
  {
   "cell_type": "code",
   "execution_count": 309,
   "metadata": {},
   "outputs": [],
   "source": [
    "def kill_duplicates(some_string):\n",
    "    words = []\n",
    "    prev =[]\n",
    "    for i in re.split('[\\s,]', some_string):\n",
    "        if i != prev :\n",
    "            prev = i\n",
    "            words.append(i)\n",
    "\n",
    "    print(' '.join(words).replace('  ',', ')+'.')       "
   ]
  },
  {
   "cell_type": "code",
   "execution_count": 310,
   "metadata": {},
   "outputs": [
    {
     "name": "stdout",
     "output_type": "stream",
     "text": [
      "Напишите функцию, которая будет удалять все последовательные повторы слов из заданной строки при помощи регулярных выражений.\n"
     ]
    }
   ],
   "source": [
    "kill_duplicates(some_string)"
   ]
  },
  {
   "cell_type": "markdown",
   "metadata": {},
   "source": [
    "## Задание 3\n",
    "Напишите функцию, которая будет возвращать акроним по переданной в нее строке со словами."
   ]
  },
  {
   "cell_type": "code",
   "execution_count": 385,
   "metadata": {},
   "outputs": [],
   "source": [
    "some_words = 'Информационные технологии'"
   ]
  },
  {
   "cell_type": "code",
   "execution_count": 386,
   "metadata": {},
   "outputs": [],
   "source": [
    "def first(some_words):\n",
    "    sum_= []\n",
    "    for i in re.split('[\\s]', some_words):\n",
    "        sum_+= i[0].upper()\n",
    "    print(''.join(sum_))"
   ]
  },
  {
   "cell_type": "code",
   "execution_count": 387,
   "metadata": {},
   "outputs": [
    {
     "name": "stdout",
     "output_type": "stream",
     "text": [
      "ИТ\n"
     ]
    }
   ],
   "source": [
    "first(some_words)"
   ]
  },
  {
   "cell_type": "code",
   "execution_count": 388,
   "metadata": {},
   "outputs": [],
   "source": [
    "some_words = 'Near Field Communication'"
   ]
  },
  {
   "cell_type": "code",
   "execution_count": 389,
   "metadata": {},
   "outputs": [
    {
     "name": "stdout",
     "output_type": "stream",
     "text": [
      "NFC\n"
     ]
    }
   ],
   "source": [
    "first(some_words)"
   ]
  },
  {
   "cell_type": "markdown",
   "metadata": {},
   "source": [
    "## Задание 4"
   ]
  },
  {
   "cell_type": "markdown",
   "metadata": {},
   "source": [
    "Напишите функцию, которая будет принимать на вход список email-адресов и выводить их распределение по доменным зонам."
   ]
  },
  {
   "cell_type": "code",
   "execution_count": 454,
   "metadata": {},
   "outputs": [],
   "source": [
    "emails = ['test@gmail.com', 'xyz@test.in', 'test@ya.ru', 'xyz@mail.ru', 'xyz@ya.ru', 'xyz@gmail.com']"
   ]
  },
  {
   "cell_type": "code",
   "execution_count": 455,
   "metadata": {},
   "outputs": [],
   "source": [
    "def count(emails):\n",
    "    a = []\n",
    "    for mail in emails:\n",
    "        a += re.findall(r'@(\\S+)', mail)\n",
    "    from collections import Counter\n",
    "    print(Counter(a))"
   ]
  },
  {
   "cell_type": "code",
   "execution_count": 456,
   "metadata": {},
   "outputs": [
    {
     "name": "stdout",
     "output_type": "stream",
     "text": [
      "Counter({'gmail.com': 2, 'ya.ru': 2, 'test.in': 1, 'mail.ru': 1})\n"
     ]
    }
   ],
   "source": [
    "count(emails)"
   ]
  },
  {
   "cell_type": "markdown",
   "metadata": {},
   "source": [
    "## Задание 5 (необязательное)"
   ]
  },
  {
   "cell_type": "markdown",
   "metadata": {},
   "source": [
    "Напишите функцию, которая будет подсчитывать сколько слов начинается на гласные, а сколько на согласные буквы в тексте (текст может быть написан как с использованием букв кириллицы, так и латиницы)."
   ]
  },
  {
   "cell_type": "code",
   "execution_count": 492,
   "metadata": {},
   "outputs": [],
   "source": [
    "some_text = 'Эталонной реализацией Python является интерпретатор CPython, поддерживающий большинство \\\n",
    "активно используемых платформ. Он распространяется под свободной лицензией Python Software Foundation License,\\\n",
    "позволяющей использовать его без ограничений в любых приложениях, включая проприетарные.'"
   ]
  },
  {
   "cell_type": "code",
   "execution_count": 497,
   "metadata": {},
   "outputs": [],
   "source": [
    "def count_words(some_text):\n",
    "    results_k_g = []\n",
    "    results_k_s = []\n",
    "    total_k_s = 0\n",
    "    total_k_g = 0\n",
    "    results_l_g = []\n",
    "    results_l_s = []\n",
    "    total_l_s = 0\n",
    "    total_l_g = 0\n",
    "    for i in some_text.split():\n",
    "        results_k_g = re.match(r'[ауоыиэяюёе]{1}', i.lower())\n",
    "        results_k_s = re.match(r'[бвгджзйклмнпрстфхцчшщ]{1}', i.lower())\n",
    "        results_l_g = re.match(r'[aeiou]{1}', i.lower())\n",
    "        results_l_s = re.match(r'[bcdfghjklmnpqrstvwxyz]{1}', i.lower())\n",
    "        if results_k_g != None:\n",
    "            total_k_g += 1\n",
    "        if results_k_s != None:\n",
    "            total_k_s += 1\n",
    "        if results_l_g != None:\n",
    "            total_l_g += 1\n",
    "        if results_l_s != None:\n",
    "            total_l_s += 1\n",
    "    print( 'Слов на гласные буквы:',total_k_g + total_l_g )\n",
    "    print( 'Слов на согласные буквы:',total_k_s + total_l_s )"
   ]
  },
  {
   "cell_type": "code",
   "execution_count": 499,
   "metadata": {},
   "outputs": [
    {
     "name": "stdout",
     "output_type": "stream",
     "text": [
      "Слов на гласные буквы: 9\n",
      "Слов на согласные буквы: 20\n"
     ]
    }
   ],
   "source": [
    "count_words(some_text)"
   ]
  },
  {
   "cell_type": "code",
   "execution_count": 501,
   "metadata": {},
   "outputs": [
    {
     "data": {
      "text/plain": [
       "29"
      ]
     },
     "execution_count": 501,
     "metadata": {},
     "output_type": "execute_result"
    }
   ],
   "source": [
    "len(some_text.split())"
   ]
  }
 ],
 "metadata": {
  "kernelspec": {
   "display_name": "Python 3",
   "language": "python",
   "name": "python3"
  },
  "language_info": {
   "codemirror_mode": {
    "name": "ipython",
    "version": 3
   },
   "file_extension": ".py",
   "mimetype": "text/x-python",
   "name": "python",
   "nbconvert_exporter": "python",
   "pygments_lexer": "ipython3",
   "version": "3.8.3"
  }
 },
 "nbformat": 4,
 "nbformat_minor": 4
}
